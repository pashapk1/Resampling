{
  "cells": [
    {
      "cell_type": "markdown",
      "metadata": {
        "id": "JNQ69ZhLpvzn"
      },
      "source": [
        "<hr color='red'/>\n",
        "\n",
        "# **Task 1.1, Theory: Bootstrap**"
      ]
    },
    {
      "cell_type": "markdown",
      "metadata": {
        "id": "S3Gm0391p7-D"
      },
      "source": [
        "Suppose that we obtain a bootstrap sample from a set of $n$ observations.\n",
        "\n",
        "\n",
        "1.   👉 Show that on average one-thirds of original observations are not included in each bootstrap sample as $n \\rightarrow \\infty$. Evaluate this quantity for $n = 10, 20, 50, 100$ and $B = 10, 20, 50, 100$.\n",
        "\n",
        "\n",
        "\n",
        "\n",
        "\n"
      ]
    },
    {
      "cell_type": "markdown",
      "metadata": {
        "id": "XwDSxC7JYoar"
      },
      "source": [
        "1. Consider a sample $X_n$ = $x_1,x_2,\\ldots,x_{n}$. So we can \"pick\" $n$ observations in order to make bootstrap samples. Therefore , we have a chance which is  $\\frac{1}{n}$ of including just a single observation. From this it is obvious that then the chance of not including this observation would be $1-\\frac{1}{n}$ => for $n$ draws it'll be $1-\\frac{1}{n}^n$. \n",
        " \n",
        " \n",
        "$\\lim_{n\\to\\infty}(1-\\frac{1}{n})^n $  $\\approx$ 0.36. \n",
        " \n",
        "Thus, the probability of non-inclusion of observation is on average $\\approx$ 0.36 which is a little more than $\\frac{1}{3}$ of the initial sample \n",
        "2. Evaluation for  $n$=10  and  $B$=10 is 0.3486784401000001 \n",
        "3. Evaluation for  $n$=20  and  $B$=20 is 0.3584859224085419 \n",
        "4. Evaluation for  $n$=50  and  $B$=50 is 0.36416968008711675 \n",
        "5. Evaluation for  $n$=100  and  $B$=100 is 0.3660323412732292 \n",
        " \n",
        " \n",
        "We see that the values are relatively close to eah other."
      ]
    },
    {
      "cell_type": "markdown",
      "metadata": {
        "id": "15hojQRhF9zk"
      },
      "source": [
        "<hr color='red'/>\n",
        "\n",
        "## **Task 2.0: Set Your Seed**"
      ]
    },
    {
      "cell_type": "markdown",
      "metadata": {
        "id": "gct-osxhGA2O"
      },
      "source": [
        "Type your name in the string below to generate a unique seed number for the random number generator used in this assignment."
      ]
    },
    {
      "cell_type": "code",
      "execution_count": 36,
      "metadata": {
        "colab": {
          "base_uri": "https://localhost:8080/"
        },
        "id": "Fw8bo3M_yNzb",
        "outputId": "11190d12-7e7d-424b-b901-5b50b7ffba1c"
      },
      "outputs": [
        {
          "name": "stdout",
          "output_type": "stream",
          "text": [
            "Python=3.7.12, np=1.19.5, pd=1.1.5, sm=0.13.0, plotly=5.3.1\n"
          ]
        }
      ],
      "source": [
        "%reset -f\n",
        "!pip -q install -U statsmodels plotly > log  # upgrade packages to avoid library warnings\n",
        "from IPython.core.interactiveshell import InteractiveShell as IS; IS.ast_node_interactivity = \"all\" \n",
        "import pandas as pd, numpy as np, platform, statsmodels.api as sm, plotly, plotly.express as px, seaborn as sns, matplotlib.pyplot as plt\n",
        "from sklearn.model_selection import train_test_split\n",
        "from sklearn.preprocessing import PolynomialFeatures\n",
        "from sklearn.metrics import r2_score\n",
        "np.set_printoptions(linewidth=10000, precision=4, edgeitems=20, suppress=True)\n",
        "pd.set_option('max_rows', 100, 'max_columns', 100, 'max_colwidth', 100, 'precision', 2, 'display.max_rows', 10)\n",
        "print(f'Python={platform.python_version()},', ', '.join([f\"{s}={eval(s+'.__version__')}\" for s in 'np pd sm plotly'.split()])) # print package versions"
      ]
    },
    {
      "cell_type": "code",
      "execution_count": 37,
      "metadata": {
        "colab": {
          "base_uri": "https://localhost:8080/"
        },
        "id": "un0EEFLgGJyg",
        "outputId": "d0c9164b-e075-4494-fa34-34d7a84f7bcb"
      },
      "outputs": [
        {
          "name": "stdout",
          "output_type": "stream",
          "text": [
            "\"Pavel_Calmanovici, Lanin_Gleb\" results in 3095037732 seed\n"
          ]
        }
      ],
      "source": [
        "StudentName = \"Pavel_Calmanovici\"  # For groups: \"First_Last,First_Last\"\n",
        "MySeed = int.from_bytes(StudentName.encode(), 'little') % (2**32 - 1)  # this is your unique seed for your homework\n",
        "print(f'\"{StudentName}\" results in {MySeed} seed')"
      ]
    },
    {
      "cell_type": "markdown",
      "metadata": {
        "id": "YjJAaFIr_zfm"
      },
      "source": [
        "Below we load a dataframe, generate polynomial & interaction terms, subsample rows/columns for each student. The first column is your $Y$ output, which you need to model as a function of the remaining features. Please don't modify this code."
      ]
    },
    {
      "cell_type": "code",
      "execution_count": 38,
      "metadata": {
        "colab": {
          "base_uri": "https://localhost:8080/",
          "height": 419
        },
        "id": "JUDyWUSxxdWb",
        "outputId": "f3483852-0e44-4035-ddcd-d4865f91f118"
      },
      "outputs": [
        {
          "data": {
            "text/html": [
              "<div>\n",
              "<style scoped>\n",
              "    .dataframe tbody tr th:only-of-type {\n",
              "        vertical-align: middle;\n",
              "    }\n",
              "\n",
              "    .dataframe tbody tr th {\n",
              "        vertical-align: top;\n",
              "    }\n",
              "\n",
              "    .dataframe thead th {\n",
              "        text-align: right;\n",
              "    }\n",
              "</style>\n",
              "<table border=\"1\" class=\"dataframe\">\n",
              "  <thead>\n",
              "    <tr style=\"text-align: right;\">\n",
              "      <th></th>\n",
              "      <th>ozone</th>\n",
              "      <th>dpg·doy</th>\n",
              "      <th>humidity·vis</th>\n",
              "      <th>temp^2</th>\n",
              "      <th>vh·humidity</th>\n",
              "      <th>vis·doy</th>\n",
              "      <th>wind·doy</th>\n",
              "    </tr>\n",
              "  </thead>\n",
              "  <tbody>\n",
              "    <tr>\n",
              "      <th>32</th>\n",
              "      <td>3</td>\n",
              "      <td>666.0</td>\n",
              "      <td>3720.0</td>\n",
              "      <td>900.0</td>\n",
              "      <td>331700.0</td>\n",
              "      <td>2220.0</td>\n",
              "      <td>259.0</td>\n",
              "    </tr>\n",
              "    <tr>\n",
              "      <th>24</th>\n",
              "      <td>6</td>\n",
              "      <td>-435.0</td>\n",
              "      <td>2850.0</td>\n",
              "      <td>4096.0</td>\n",
              "      <td>110390.0</td>\n",
              "      <td>4350.0</td>\n",
              "      <td>145.0</td>\n",
              "    </tr>\n",
              "    <tr>\n",
              "      <th>182</th>\n",
              "      <td>17</td>\n",
              "      <td>11368.0</td>\n",
              "      <td>6560.0</td>\n",
              "      <td>6561.0</td>\n",
              "      <td>478060.0</td>\n",
              "      <td>15680.0</td>\n",
              "      <td>1176.0</td>\n",
              "    </tr>\n",
              "    <tr>\n",
              "      <th>168</th>\n",
              "      <td>26</td>\n",
              "      <td>7421.0</td>\n",
              "      <td>10780.0</td>\n",
              "      <td>7744.0</td>\n",
              "      <td>451220.0</td>\n",
              "      <td>25340.0</td>\n",
              "      <td>724.0</td>\n",
              "    </tr>\n",
              "    <tr>\n",
              "      <th>112</th>\n",
              "      <td>19</td>\n",
              "      <td>3720.0</td>\n",
              "      <td>6100.0</td>\n",
              "      <td>4356.0</td>\n",
              "      <td>349530.0</td>\n",
              "      <td>12000.0</td>\n",
              "      <td>600.0</td>\n",
              "    </tr>\n",
              "    <tr>\n",
              "      <th>...</th>\n",
              "      <td>...</td>\n",
              "      <td>...</td>\n",
              "      <td>...</td>\n",
              "      <td>...</td>\n",
              "      <td>...</td>\n",
              "      <td>...</td>\n",
              "      <td>...</td>\n",
              "    </tr>\n",
              "    <tr>\n",
              "      <th>171</th>\n",
              "      <td>16</td>\n",
              "      <td>9568.0</td>\n",
              "      <td>7680.0</td>\n",
              "      <td>4900.0</td>\n",
              "      <td>372480.0</td>\n",
              "      <td>22080.0</td>\n",
              "      <td>1472.0</td>\n",
              "    </tr>\n",
              "    <tr>\n",
              "      <th>221</th>\n",
              "      <td>19</td>\n",
              "      <td>8085.0</td>\n",
              "      <td>4970.0</td>\n",
              "      <td>8649.0</td>\n",
              "      <td>418900.0</td>\n",
              "      <td>17150.0</td>\n",
              "      <td>1225.0</td>\n",
              "    </tr>\n",
              "    <tr>\n",
              "      <th>155</th>\n",
              "      <td>14</td>\n",
              "      <td>12600.0</td>\n",
              "      <td>1088.0</td>\n",
              "      <td>6084.0</td>\n",
              "      <td>375040.0</td>\n",
              "      <td>2856.0</td>\n",
              "      <td>504.0</td>\n",
              "    </tr>\n",
              "    <tr>\n",
              "      <th>262</th>\n",
              "      <td>24</td>\n",
              "      <td>6111.0</td>\n",
              "      <td>1207.0</td>\n",
              "      <td>4761.0</td>\n",
              "      <td>411090.0</td>\n",
              "      <td>4947.0</td>\n",
              "      <td>1455.0</td>\n",
              "    </tr>\n",
              "    <tr>\n",
              "      <th>162</th>\n",
              "      <td>15</td>\n",
              "      <td>-1925.0</td>\n",
              "      <td>4620.0</td>\n",
              "      <td>6561.0</td>\n",
              "      <td>193380.0</td>\n",
              "      <td>24500.0</td>\n",
              "      <td>700.0</td>\n",
              "    </tr>\n",
              "  </tbody>\n",
              "</table>\n",
              "<p>165 rows × 7 columns</p>\n",
              "</div>"
            ],
            "text/plain": [
              "     ozone  dpg·doy  humidity·vis  temp^2  vh·humidity  vis·doy  wind·doy\n",
              "32       3    666.0        3720.0   900.0     331700.0   2220.0     259.0\n",
              "24       6   -435.0        2850.0  4096.0     110390.0   4350.0     145.0\n",
              "182     17  11368.0        6560.0  6561.0     478060.0  15680.0    1176.0\n",
              "168     26   7421.0       10780.0  7744.0     451220.0  25340.0     724.0\n",
              "112     19   3720.0        6100.0  4356.0     349530.0  12000.0     600.0\n",
              "..     ...      ...           ...     ...          ...      ...       ...\n",
              "171     16   9568.0        7680.0  4900.0     372480.0  22080.0    1472.0\n",
              "221     19   8085.0        4970.0  8649.0     418900.0  17150.0    1225.0\n",
              "155     14  12600.0        1088.0  6084.0     375040.0   2856.0     504.0\n",
              "262     24   6111.0        1207.0  4761.0     411090.0   4947.0    1455.0\n",
              "162     15  -1925.0        4620.0  6561.0     193380.0  24500.0     700.0\n",
              "\n",
              "[165 rows x 7 columns]"
            ]
          },
          "execution_count": 38,
          "metadata": {},
          "output_type": "execute_result"
        }
      ],
      "source": [
        "df = pd.read_csv('https://raw.githubusercontent.com/omelnikov/data/main/los-angeles-ozone/LAozone.data')\n",
        "\n",
        "Ycol = np.random.RandomState(MySeed).choice(['ozone', 'temp', 'humidity'])  # we choose Y column\n",
        "dfX, dfY = df.drop(Ycol, axis=1), df[[Ycol]]  # we remove Y to prevent leakage (function of output among predictors)\n",
        "poly = PolynomialFeatures(include_bias=False) # generate new features from remaining original features\n",
        "df = pd.DataFrame(poly.fit_transform(dfX), columns=[s.replace(' ','·') for s in poly.get_feature_names(dfX.columns)])  # package as a dataframe\n",
        "\n",
        "MyColumns = sorted(np.random.RandomState(MySeed).choice(df.columns, size=np.random.RandomState(MySeed).randint(6,10), replace=False)) # sample feature names\n",
        "df = pd.concat([dfY, df[MyColumns]], axis=1).sample(frac=.5, random_state=MySeed) # add back Y and sample a fraction of observations\n",
        "df"
      ]
    },
    {
      "cell_type": "markdown",
      "metadata": {
        "id": "6lZ6tLrTFYOq"
      },
      "source": [
        "<hr color='red'/>\n",
        "\n",
        "## **Task 2.1: Ideas from raw data**"
      ]
    },
    {
      "cell_type": "markdown",
      "metadata": {
        "id": "LcPWDtj8FcBa"
      },
      "source": [
        "👉Describe 5+ (at least 5) **takeaways** about the small dataframe sample printed above. \n",
        "1. 📄 A full sentence or two will suffice. 1-2 words per finding is unlikely to fully describe your finding. Be explicit, concise, and precise.\n",
        "1. 📄 Do you observe seemingly wrong values (too low or too high), outliers, missing values, any ordered observations, any constant values, any categorical values, any zero values, any values related to $Y$ linearly or nonlinearly, any highly collinear features, too many (or few) observations (or features), any binary variables or categorical variables with few levels, ...?\n",
        "1. **Why** do this?: see seminar's colab\n"
      ]
    },
    {
      "cell_type": "markdown",
      "metadata": {
        "id": "0Yq-vsGtI2ec"
      },
      "source": [
        "<h3><font color='red'><b>SOLUTION 2.1:</b></font></h3>\n",
        "\n",
        "Your solution goes here\n",
        "1. We have negative values in `dpg·doy`\n",
        "1. We do not observe any features which can be presented in binary format\n",
        "1. We have found 36 outliners in total. For some reason ozone has 2 outliners, I don't have any ideas why so.We don't have any outliners in 4th, 5th and 7th columns (`temp^2` , `vh·humidity`, `wind·doy`)\n",
        "1. There are no missing values.\n",
        "1. From this dataset we do not observe any seemingly wrong values.\n",
        "\n"
      ]
    },
    {
      "cell_type": "code",
      "execution_count": 39,
      "metadata": {
        "id": "HQ5M7Eh6lVll"
      },
      "outputs": [],
      "source": [
        "#i would like to avoid AN AttributeError when finding outliners, therefore i will rewrite temp^2 as temp_SQ the same why as i did in HW03 \n",
        "df = df.rename(columns={'temp^2': 'temp_SQ'})"
      ]
    },
    {
      "cell_type": "code",
      "execution_count": 40,
      "metadata": {
        "colab": {
          "base_uri": "https://localhost:8080/"
        },
        "id": "sgLDq7GDl9_1",
        "outputId": "60791a12-4e27-4f3a-f647-7470cdaa99f1"
      },
      "outputs": [
        {
          "name": "stdout",
          "output_type": "stream",
          "text": [
            "2  - Outliners 1st col\n",
            "6  - Outliners 2nd col\n",
            "10  - Outliners 3rd col\n",
            "0  - Outliners 4th col\n",
            "0  - Outliners 5th col\n",
            "18  - Outliners 6th col\n",
            "0  - Outliners 7th col\n"
          ]
        }
      ],
      "source": [
        "#Now I'm ready to find outliners if there are any\n",
        "# here we use prevoius HW solution for finding outliners \n",
        "# solution from Lanin Gleb HW3 and HW04\n",
        "# 1st col\n",
        "q_diff = df['ozone'].quantile(0.75) - df['ozone'].quantile(0.25) \n",
        "q_diff = q_diff * 1.5 \n",
        "print(df[df.ozone > (df['ozone'].quantile(0.75) + q_diff)].shape[0] + df[df.ozone < (df['ozone'].quantile(0.25) - q_diff)].shape[0], \" - Outliners 1st col\") \n",
        "#2nd col \n",
        "q_diff = df['dpg·doy'].quantile(0.75) - df['dpg·doy'].quantile(0.25) \n",
        "q_diff = q_diff * 1.5 \n",
        "print(df[df.dpg·doy > (df['dpg·doy'].quantile(0.75) + q_diff)].shape[0] + df[df.dpg·doy < (df['dpg·doy'].quantile(0.25) - q_diff)].shape[0], \" - Outliners 2nd col\") \n",
        "#3rd col  \n",
        "q_diff = df['humidity·vis'].quantile(0.75) - df['humidity·vis'].quantile(0.25) \n",
        "q_diff = q_diff * 1.5 \n",
        "print(df[df.humidity·vis > (df['humidity·vis'].quantile(0.75) + q_diff)].shape[0] + df[df.humidity·vis < (df['humidity·vis'].quantile(0.25) - q_diff)].shape[0], \" - Outliners 3rd col\") \n",
        "#4th col  \n",
        "q_diff = df['temp_SQ'].quantile(0.75) - df['temp_SQ'].quantile(0.25) \n",
        "q_diff = q_diff * 1.5 \n",
        "print(df[df.temp_SQ > (df['temp_SQ'].quantile(0.75) + q_diff)].shape[0] + df[df.temp_SQ < (df['temp_SQ'].quantile(0.25) - q_diff)].shape[0], \" - Outliners 4th col\") \n",
        "#5th col  \n",
        "q_diff = df['vh·humidity'].quantile(0.75) - df['vh·humidity'].quantile(0.25) \n",
        "q_diff = q_diff * 1.5 \n",
        "print(df[df.vh·humidity > (df['vh·humidity'].quantile(0.75) + q_diff)].shape[0] + df[df.vh·humidity < (df['vh·humidity'].quantile(0.25) - q_diff)].shape[0], \" - Outliners 5th col\") \n",
        "#6th col  \n",
        "q_diff = df['vis·doy'].quantile(0.75) - df['vis·doy'].quantile(0.25) \n",
        "q_diff = q_diff * 1.5 \n",
        "print(df[df.vis·doy > (df['vis·doy'].quantile(0.75) + q_diff)].shape[0] + df[df.vis·doy < (df['vis·doy'].quantile(0.25) - q_diff)].shape[0], \" - Outliners 6th col\")\n",
        "#7th col  \n",
        "q_diff = df['wind·doy'].quantile(0.75) - df['wind·doy'].quantile(0.25) \n",
        "q_diff = q_diff * 1.5 \n",
        "print(df[df.wind·doy > (df['wind·doy'].quantile(0.75) + q_diff)].shape[0] + df[df.wind·doy < (df['wind·doy'].quantile(0.25) - q_diff)].shape[0], \" - Outliners 7th col\")"
      ]
    },
    {
      "cell_type": "markdown",
      "metadata": {
        "id": "IZZ9kxpoTyxg"
      },
      "source": [
        "<hr color='red'/>\n",
        "\n",
        "## **Task 2.2: Ideas from data structure**"
      ]
    },
    {
      "cell_type": "markdown",
      "metadata": {
        "id": "QDq5AadZT6ms"
      },
      "source": [
        "👉Use dataframe's `info()` method to create the structure of the features. \n",
        " \n",
        "1. 👉Describe 1+ **takeaway**.\n",
        "  * 📄 Any missing values (just a few or a lot), any unusual data types (int where float is expected, etc.), any object (i.e. string) datatypes - do these make sense to you why or why not? You will need to read about these features to conclude whether data types make sense.\n",
        "  * **Why** do this?: see seminar's colab\n",
        "1. 👉Do any data types need to be converted to a different data type? Why? \n",
        "  1. 📄 Any metric variables with integer or string values? Or any ordinal variables with floating or string values? Why do you think these are metric or ordinal or categorical, etc.?\n"
      ]
    },
    {
      "cell_type": "code",
      "execution_count": 41,
      "metadata": {
        "colab": {
          "base_uri": "https://localhost:8080/"
        },
        "id": "Zd92NaaB2xSF",
        "outputId": "9b08a0a7-ba6d-4c11-ba07-331950558a4b"
      },
      "outputs": [
        {
          "name": "stdout",
          "output_type": "stream",
          "text": [
            "<class 'pandas.core.frame.DataFrame'>\n",
            "Int64Index: 165 entries, 32 to 162\n",
            "Data columns (total 7 columns):\n",
            " #   Column        Non-Null Count  Dtype  \n",
            "---  ------        --------------  -----  \n",
            " 0   ozone         165 non-null    int64  \n",
            " 1   dpg·doy       165 non-null    float64\n",
            " 2   humidity·vis  165 non-null    float64\n",
            " 3   temp_SQ       165 non-null    float64\n",
            " 4   vh·humidity   165 non-null    float64\n",
            " 5   vis·doy       165 non-null    float64\n",
            " 6   wind·doy      165 non-null    float64\n",
            "dtypes: float64(6), int64(1)\n",
            "memory usage: 10.3 KB\n"
          ]
        }
      ],
      "source": [
        "df.info()"
      ]
    },
    {
      "cell_type": "code",
      "execution_count": 42,
      "metadata": {
        "colab": {
          "base_uri": "https://localhost:8080/",
          "height": 266
        },
        "id": "QeSn6UI-2kVn",
        "outputId": "01e28545-c817-4686-930d-0b6d73ba2b54"
      },
      "outputs": [
        {
          "data": {
            "text/html": [
              "<div>\n",
              "<style scoped>\n",
              "    .dataframe tbody tr th:only-of-type {\n",
              "        vertical-align: middle;\n",
              "    }\n",
              "\n",
              "    .dataframe tbody tr th {\n",
              "        vertical-align: top;\n",
              "    }\n",
              "\n",
              "    .dataframe thead th {\n",
              "        text-align: right;\n",
              "    }\n",
              "</style>\n",
              "<table border=\"1\" class=\"dataframe\">\n",
              "  <thead>\n",
              "    <tr style=\"text-align: right;\">\n",
              "      <th></th>\n",
              "      <th>ozone</th>\n",
              "      <th>dpg·doy</th>\n",
              "      <th>humidity·vis</th>\n",
              "      <th>temp_SQ</th>\n",
              "      <th>vh·humidity</th>\n",
              "      <th>vis·doy</th>\n",
              "      <th>wind·doy</th>\n",
              "    </tr>\n",
              "  </thead>\n",
              "  <tbody>\n",
              "    <tr>\n",
              "      <th>ozone</th>\n",
              "      <td>1.00</td>\n",
              "      <td>0.41</td>\n",
              "      <td>-0.16</td>\n",
              "      <td>0.83</td>\n",
              "      <td>0.54</td>\n",
              "      <td>-0.25</td>\n",
              "      <td>0.31</td>\n",
              "    </tr>\n",
              "    <tr>\n",
              "      <th>dpg·doy</th>\n",
              "      <td>0.41</td>\n",
              "      <td>1.00</td>\n",
              "      <td>0.25</td>\n",
              "      <td>0.40</td>\n",
              "      <td>0.65</td>\n",
              "      <td>-0.36</td>\n",
              "      <td>0.21</td>\n",
              "    </tr>\n",
              "    <tr>\n",
              "      <th>humidity·vis</th>\n",
              "      <td>-0.16</td>\n",
              "      <td>0.25</td>\n",
              "      <td>1.00</td>\n",
              "      <td>-0.21</td>\n",
              "      <td>0.26</td>\n",
              "      <td>0.21</td>\n",
              "      <td>-0.03</td>\n",
              "    </tr>\n",
              "    <tr>\n",
              "      <th>temp_SQ</th>\n",
              "      <td>0.83</td>\n",
              "      <td>0.40</td>\n",
              "      <td>-0.21</td>\n",
              "      <td>1.00</td>\n",
              "      <td>0.41</td>\n",
              "      <td>-0.11</td>\n",
              "      <td>0.37</td>\n",
              "    </tr>\n",
              "    <tr>\n",
              "      <th>vh·humidity</th>\n",
              "      <td>0.54</td>\n",
              "      <td>0.65</td>\n",
              "      <td>0.26</td>\n",
              "      <td>0.41</td>\n",
              "      <td>1.00</td>\n",
              "      <td>-0.31</td>\n",
              "      <td>0.31</td>\n",
              "    </tr>\n",
              "    <tr>\n",
              "      <th>vis·doy</th>\n",
              "      <td>-0.25</td>\n",
              "      <td>-0.36</td>\n",
              "      <td>0.21</td>\n",
              "      <td>-0.11</td>\n",
              "      <td>-0.31</td>\n",
              "      <td>1.00</td>\n",
              "      <td>0.34</td>\n",
              "    </tr>\n",
              "    <tr>\n",
              "      <th>wind·doy</th>\n",
              "      <td>0.31</td>\n",
              "      <td>0.21</td>\n",
              "      <td>-0.03</td>\n",
              "      <td>0.37</td>\n",
              "      <td>0.31</td>\n",
              "      <td>0.34</td>\n",
              "      <td>1.00</td>\n",
              "    </tr>\n",
              "  </tbody>\n",
              "</table>\n",
              "</div>"
            ],
            "text/plain": [
              "              ozone  dpg·doy  humidity·vis  temp_SQ  vh·humidity  vis·doy  \\\n",
              "ozone          1.00     0.41         -0.16     0.83         0.54    -0.25   \n",
              "dpg·doy        0.41     1.00          0.25     0.40         0.65    -0.36   \n",
              "humidity·vis  -0.16     0.25          1.00    -0.21         0.26     0.21   \n",
              "temp_SQ        0.83     0.40         -0.21     1.00         0.41    -0.11   \n",
              "vh·humidity    0.54     0.65          0.26     0.41         1.00    -0.31   \n",
              "vis·doy       -0.25    -0.36          0.21    -0.11        -0.31     1.00   \n",
              "wind·doy       0.31     0.21         -0.03     0.37         0.31     0.34   \n",
              "\n",
              "              wind·doy  \n",
              "ozone             0.31  \n",
              "dpg·doy           0.21  \n",
              "humidity·vis     -0.03  \n",
              "temp_SQ           0.37  \n",
              "vh·humidity       0.31  \n",
              "vis·doy           0.34  \n",
              "wind·doy          1.00  "
            ]
          },
          "execution_count": 42,
          "metadata": {},
          "output_type": "execute_result"
        }
      ],
      "source": [
        "np.round(df.corr(), 2) "
      ]
    },
    {
      "cell_type": "markdown",
      "metadata": {
        "id": "btgeiowFVdA6"
      },
      "source": [
        "<h3><font color='red'><b>SOLUTION 2.2:</b></font></h3>\n",
        "\n",
        "Your solution goes here\n",
        "\n",
        "1. As it was already mentioned, there are no missing features, all nides are non-null, all the dataset is complete.\n",
        "1. Since we do not have variables which can be presented in another type , we may not convert them.\n",
        "1. We have quite weak correlation on the whole dataset. The only strong correlation is between `vh·humidity` and `dpg·doy` wich equals 0.65 . And between `temp_SQ` and `ozone` and it equals 0.83."
      ]
    },
    {
      "cell_type": "markdown",
      "metadata": {
        "id": "gakrtNak0Q8e"
      },
      "source": [
        "<hr color='red'/>\n",
        "\n",
        "## **Task 2.3: Bootstrap samples analysis**\n",
        "\n",
        "👉 Create 5 bootstrap samples and analyse how they differ statistically from the original dataset. Use dataframe's `describe()` method for that. Pay attention to the `mean` and `std`. Set seeds from 0 to 4 respectively."
      ]
    },
    {
      "cell_type": "markdown",
      "metadata": {
        "id": "0D4DQidA2AfR"
      },
      "source": [
        "<h3><font color='red'><b>SOLUTION 2.3:</b></font></h3>\n",
        "\n",
        "Your analysis goes here\n",
        "1. `dpg·doy` seems to have a wide range of values. It's greatest value in this  dataframe is 102, 15436 the smallest is -23184. \n",
        "1. In each Bootstrap sample the `mean` is different from the initial data sample.\n",
        "1. Each Bootstrap sample has a different number of rows ranging from 15 to 99.Two samples have an equal number of rows equal to 61, the initial data set consisted of 165 rows so the range of samples can be quite big.\n",
        "1. The `std` increases with the nuber of rows in the Bootstrap sample.\n",
        "1. In the Bootstarping sample 2, we don't have zero value."
      ]
    },
    {
      "cell_type": "code",
      "execution_count": 43,
      "metadata": {
        "colab": {
          "base_uri": "https://localhost:8080/",
          "height": 297
        },
        "id": "iPk8w9l-iXEW",
        "outputId": "dcd6c60e-999b-4cdd-8e25-11f23c877ab3"
      },
      "outputs": [
        {
          "data": {
            "text/html": [
              "<div>\n",
              "<style scoped>\n",
              "    .dataframe tbody tr th:only-of-type {\n",
              "        vertical-align: middle;\n",
              "    }\n",
              "\n",
              "    .dataframe tbody tr th {\n",
              "        vertical-align: top;\n",
              "    }\n",
              "\n",
              "    .dataframe thead th {\n",
              "        text-align: right;\n",
              "    }\n",
              "</style>\n",
              "<table border=\"1\" class=\"dataframe\">\n",
              "  <thead>\n",
              "    <tr style=\"text-align: right;\">\n",
              "      <th></th>\n",
              "      <th>ozone</th>\n",
              "      <th>dpg·doy</th>\n",
              "      <th>humidity·vis</th>\n",
              "      <th>temp_SQ</th>\n",
              "      <th>vh·humidity</th>\n",
              "      <th>vis·doy</th>\n",
              "      <th>wind·doy</th>\n",
              "    </tr>\n",
              "  </thead>\n",
              "  <tbody>\n",
              "    <tr>\n",
              "      <th>count</th>\n",
              "      <td>165.00</td>\n",
              "      <td>165.00</td>\n",
              "      <td>165.00</td>\n",
              "      <td>165.00</td>\n",
              "      <td>165.00</td>\n",
              "      <td>165.00</td>\n",
              "      <td>165.00</td>\n",
              "    </tr>\n",
              "    <tr>\n",
              "      <th>mean</th>\n",
              "      <td>11.61</td>\n",
              "      <td>2292.78</td>\n",
              "      <td>6607.10</td>\n",
              "      <td>4124.15</td>\n",
              "      <td>323499.33</td>\n",
              "      <td>21178.61</td>\n",
              "      <td>822.15</td>\n",
              "    </tr>\n",
              "    <tr>\n",
              "      <th>std</th>\n",
              "      <td>7.96</td>\n",
              "      <td>6901.03</td>\n",
              "      <td>4462.69</td>\n",
              "      <td>1863.75</td>\n",
              "      <td>123404.72</td>\n",
              "      <td>20020.50</td>\n",
              "      <td>567.79</td>\n",
              "    </tr>\n",
              "    <tr>\n",
              "      <th>min</th>\n",
              "      <td>2.00</td>\n",
              "      <td>-23184.00</td>\n",
              "      <td>106.00</td>\n",
              "      <td>900.00</td>\n",
              "      <td>107350.00</td>\n",
              "      <td>150.00</td>\n",
              "      <td>0.00</td>\n",
              "    </tr>\n",
              "    <tr>\n",
              "      <th>25%</th>\n",
              "      <td>5.00</td>\n",
              "      <td>-680.00</td>\n",
              "      <td>3350.00</td>\n",
              "      <td>2704.00</td>\n",
              "      <td>234360.00</td>\n",
              "      <td>9750.00</td>\n",
              "      <td>340.00</td>\n",
              "    </tr>\n",
              "    <tr>\n",
              "      <th>50%</th>\n",
              "      <td>9.00</td>\n",
              "      <td>3024.00</td>\n",
              "      <td>6210.00</td>\n",
              "      <td>3969.00</td>\n",
              "      <td>359730.00</td>\n",
              "      <td>16310.00</td>\n",
              "      <td>714.00</td>\n",
              "    </tr>\n",
              "    <tr>\n",
              "      <th>75%</th>\n",
              "      <td>16.00</td>\n",
              "      <td>7584.00</td>\n",
              "      <td>8120.00</td>\n",
              "      <td>5184.00</td>\n",
              "      <td>421060.00</td>\n",
              "      <td>24640.00</td>\n",
              "      <td>1272.00</td>\n",
              "    </tr>\n",
              "    <tr>\n",
              "      <th>max</th>\n",
              "      <td>34.00</td>\n",
              "      <td>15436.00</td>\n",
              "      <td>25200.00</td>\n",
              "      <td>8649.00</td>\n",
              "      <td>531760.00</td>\n",
              "      <td>107100.00</td>\n",
              "      <td>2170.00</td>\n",
              "    </tr>\n",
              "  </tbody>\n",
              "</table>\n",
              "</div>"
            ],
            "text/plain": [
              "        ozone   dpg·doy  humidity·vis  temp_SQ  vh·humidity    vis·doy  \\\n",
              "count  165.00    165.00        165.00   165.00       165.00     165.00   \n",
              "mean    11.61   2292.78       6607.10  4124.15    323499.33   21178.61   \n",
              "std      7.96   6901.03       4462.69  1863.75    123404.72   20020.50   \n",
              "min      2.00 -23184.00        106.00   900.00    107350.00     150.00   \n",
              "25%      5.00   -680.00       3350.00  2704.00    234360.00    9750.00   \n",
              "50%      9.00   3024.00       6210.00  3969.00    359730.00   16310.00   \n",
              "75%     16.00   7584.00       8120.00  5184.00    421060.00   24640.00   \n",
              "max     34.00  15436.00      25200.00  8649.00    531760.00  107100.00   \n",
              "\n",
              "       wind·doy  \n",
              "count    165.00  \n",
              "mean     822.15  \n",
              "std      567.79  \n",
              "min        0.00  \n",
              "25%      340.00  \n",
              "50%      714.00  \n",
              "75%     1272.00  \n",
              "max     2170.00  "
            ]
          },
          "execution_count": 43,
          "metadata": {},
          "output_type": "execute_result"
        }
      ],
      "source": [
        "df.describe()"
      ]
    },
    {
      "cell_type": "code",
      "execution_count": 44,
      "metadata": {
        "id": "loYkbitss2IE"
      },
      "outputs": [],
      "source": [
        "import random \n",
        "random.seed(0)\n",
        "boot_sample0 = df.sample(n=random.randint(1, 165), replace=True, random_state=0)\n",
        "random.seed(1)\n",
        "boot_sample1 = df.sample(n=random.randint(1, 165), replace=True, random_state=0)\n",
        "random.seed(2)\n",
        "boot_sample2 = df.sample(n=random.randint(1, 165), replace=True, random_state=0)\n",
        "random.seed(3)\n",
        "boot_sample3 = df.sample(n=random.randint(1, 165), replace=True, random_state=0)\n",
        "random.seed(4)\n",
        "boot_sample4 = df.sample(n=random.randint(1, 165), replace=True, random_state=0)"
      ]
    },
    {
      "cell_type": "code",
      "execution_count": 45,
      "metadata": {
        "colab": {
          "base_uri": "https://localhost:8080/",
          "height": 297
        },
        "id": "woNzTOtss45l",
        "outputId": "f1885dd8-49e2-4894-ff94-4fa517192aea"
      },
      "outputs": [
        {
          "data": {
            "text/html": [
              "<div>\n",
              "<style scoped>\n",
              "    .dataframe tbody tr th:only-of-type {\n",
              "        vertical-align: middle;\n",
              "    }\n",
              "\n",
              "    .dataframe tbody tr th {\n",
              "        vertical-align: top;\n",
              "    }\n",
              "\n",
              "    .dataframe thead th {\n",
              "        text-align: right;\n",
              "    }\n",
              "</style>\n",
              "<table border=\"1\" class=\"dataframe\">\n",
              "  <thead>\n",
              "    <tr style=\"text-align: right;\">\n",
              "      <th></th>\n",
              "      <th>ozone</th>\n",
              "      <th>dpg·doy</th>\n",
              "      <th>humidity·vis</th>\n",
              "      <th>temp_SQ</th>\n",
              "      <th>vh·humidity</th>\n",
              "      <th>vis·doy</th>\n",
              "      <th>wind·doy</th>\n",
              "    </tr>\n",
              "  </thead>\n",
              "  <tbody>\n",
              "    <tr>\n",
              "      <th>count</th>\n",
              "      <td>99.00</td>\n",
              "      <td>99.00</td>\n",
              "      <td>99.00</td>\n",
              "      <td>99.00</td>\n",
              "      <td>99.00</td>\n",
              "      <td>99.00</td>\n",
              "      <td>99.00</td>\n",
              "    </tr>\n",
              "    <tr>\n",
              "      <th>mean</th>\n",
              "      <td>12.10</td>\n",
              "      <td>2657.76</td>\n",
              "      <td>6852.26</td>\n",
              "      <td>4251.69</td>\n",
              "      <td>346092.42</td>\n",
              "      <td>22153.43</td>\n",
              "      <td>816.91</td>\n",
              "    </tr>\n",
              "    <tr>\n",
              "      <th>std</th>\n",
              "      <td>7.49</td>\n",
              "      <td>6647.28</td>\n",
              "      <td>4304.25</td>\n",
              "      <td>1833.34</td>\n",
              "      <td>117008.32</td>\n",
              "      <td>19561.72</td>\n",
              "      <td>556.23</td>\n",
              "    </tr>\n",
              "    <tr>\n",
              "      <th>min</th>\n",
              "      <td>2.00</td>\n",
              "      <td>-17316.00</td>\n",
              "      <td>152.00</td>\n",
              "      <td>900.00</td>\n",
              "      <td>107350.00</td>\n",
              "      <td>520.00</td>\n",
              "      <td>0.00</td>\n",
              "    </tr>\n",
              "    <tr>\n",
              "      <th>25%</th>\n",
              "      <td>6.00</td>\n",
              "      <td>-795.00</td>\n",
              "      <td>3040.00</td>\n",
              "      <td>2916.00</td>\n",
              "      <td>279760.00</td>\n",
              "      <td>9795.00</td>\n",
              "      <td>411.00</td>\n",
              "    </tr>\n",
              "    <tr>\n",
              "      <th>50%</th>\n",
              "      <td>10.00</td>\n",
              "      <td>3848.00</td>\n",
              "      <td>6500.00</td>\n",
              "      <td>4096.00</td>\n",
              "      <td>380160.00</td>\n",
              "      <td>16800.00</td>\n",
              "      <td>714.00</td>\n",
              "    </tr>\n",
              "    <tr>\n",
              "      <th>75%</th>\n",
              "      <td>16.50</td>\n",
              "      <td>7695.00</td>\n",
              "      <td>8990.00</td>\n",
              "      <td>5476.00</td>\n",
              "      <td>433565.00</td>\n",
              "      <td>25380.00</td>\n",
              "      <td>1296.50</td>\n",
              "    </tr>\n",
              "    <tr>\n",
              "      <th>max</th>\n",
              "      <td>30.00</td>\n",
              "      <td>12931.00</td>\n",
              "      <td>21600.00</td>\n",
              "      <td>8649.00</td>\n",
              "      <td>531760.00</td>\n",
              "      <td>102900.00</td>\n",
              "      <td>2058.00</td>\n",
              "    </tr>\n",
              "  </tbody>\n",
              "</table>\n",
              "</div>"
            ],
            "text/plain": [
              "       ozone   dpg·doy  humidity·vis  temp_SQ  vh·humidity    vis·doy  \\\n",
              "count  99.00     99.00         99.00    99.00        99.00      99.00   \n",
              "mean   12.10   2657.76       6852.26  4251.69    346092.42   22153.43   \n",
              "std     7.49   6647.28       4304.25  1833.34    117008.32   19561.72   \n",
              "min     2.00 -17316.00        152.00   900.00    107350.00     520.00   \n",
              "25%     6.00   -795.00       3040.00  2916.00    279760.00    9795.00   \n",
              "50%    10.00   3848.00       6500.00  4096.00    380160.00   16800.00   \n",
              "75%    16.50   7695.00       8990.00  5476.00    433565.00   25380.00   \n",
              "max    30.00  12931.00      21600.00  8649.00    531760.00  102900.00   \n",
              "\n",
              "       wind·doy  \n",
              "count     99.00  \n",
              "mean     816.91  \n",
              "std      556.23  \n",
              "min        0.00  \n",
              "25%      411.00  \n",
              "50%      714.00  \n",
              "75%     1296.50  \n",
              "max     2058.00  "
            ]
          },
          "execution_count": 45,
          "metadata": {},
          "output_type": "execute_result"
        }
      ],
      "source": [
        "boot_sample0.describe()"
      ]
    },
    {
      "cell_type": "code",
      "execution_count": 46,
      "metadata": {
        "colab": {
          "base_uri": "https://localhost:8080/",
          "height": 297
        },
        "id": "drKVFb4gs5Rp",
        "outputId": "4fb29bf1-ba92-4987-8383-04af34ff0de9"
      },
      "outputs": [
        {
          "data": {
            "text/html": [
              "<div>\n",
              "<style scoped>\n",
              "    .dataframe tbody tr th:only-of-type {\n",
              "        vertical-align: middle;\n",
              "    }\n",
              "\n",
              "    .dataframe tbody tr th {\n",
              "        vertical-align: top;\n",
              "    }\n",
              "\n",
              "    .dataframe thead th {\n",
              "        text-align: right;\n",
              "    }\n",
              "</style>\n",
              "<table border=\"1\" class=\"dataframe\">\n",
              "  <thead>\n",
              "    <tr style=\"text-align: right;\">\n",
              "      <th></th>\n",
              "      <th>ozone</th>\n",
              "      <th>dpg·doy</th>\n",
              "      <th>humidity·vis</th>\n",
              "      <th>temp_SQ</th>\n",
              "      <th>vh·humidity</th>\n",
              "      <th>vis·doy</th>\n",
              "      <th>wind·doy</th>\n",
              "    </tr>\n",
              "  </thead>\n",
              "  <tbody>\n",
              "    <tr>\n",
              "      <th>count</th>\n",
              "      <td>35.00</td>\n",
              "      <td>35.00</td>\n",
              "      <td>35.00</td>\n",
              "      <td>35.00</td>\n",
              "      <td>35.00</td>\n",
              "      <td>35.00</td>\n",
              "      <td>35.00</td>\n",
              "    </tr>\n",
              "    <tr>\n",
              "      <th>mean</th>\n",
              "      <td>9.97</td>\n",
              "      <td>690.94</td>\n",
              "      <td>6812.29</td>\n",
              "      <td>3709.89</td>\n",
              "      <td>317625.14</td>\n",
              "      <td>26119.71</td>\n",
              "      <td>801.80</td>\n",
              "    </tr>\n",
              "    <tr>\n",
              "      <th>std</th>\n",
              "      <td>6.87</td>\n",
              "      <td>8043.63</td>\n",
              "      <td>4655.78</td>\n",
              "      <td>1804.41</td>\n",
              "      <td>129959.69</td>\n",
              "      <td>18898.24</td>\n",
              "      <td>592.33</td>\n",
              "    </tr>\n",
              "    <tr>\n",
              "      <th>min</th>\n",
              "      <td>3.00</td>\n",
              "      <td>-17316.00</td>\n",
              "      <td>1320.00</td>\n",
              "      <td>961.00</td>\n",
              "      <td>107350.00</td>\n",
              "      <td>520.00</td>\n",
              "      <td>0.00</td>\n",
              "    </tr>\n",
              "    <tr>\n",
              "      <th>25%</th>\n",
              "      <td>5.00</td>\n",
              "      <td>-3069.00</td>\n",
              "      <td>2655.00</td>\n",
              "      <td>2352.50</td>\n",
              "      <td>212220.00</td>\n",
              "      <td>9795.00</td>\n",
              "      <td>334.00</td>\n",
              "    </tr>\n",
              "    <tr>\n",
              "      <th>50%</th>\n",
              "      <td>9.00</td>\n",
              "      <td>1008.00</td>\n",
              "      <td>6500.00</td>\n",
              "      <td>3481.00</td>\n",
              "      <td>371150.00</td>\n",
              "      <td>20100.00</td>\n",
              "      <td>706.00</td>\n",
              "    </tr>\n",
              "    <tr>\n",
              "      <th>75%</th>\n",
              "      <td>12.50</td>\n",
              "      <td>5720.50</td>\n",
              "      <td>9575.00</td>\n",
              "      <td>4422.50</td>\n",
              "      <td>416390.00</td>\n",
              "      <td>43725.00</td>\n",
              "      <td>1339.50</td>\n",
              "    </tr>\n",
              "    <tr>\n",
              "      <th>max</th>\n",
              "      <td>30.00</td>\n",
              "      <td>12931.00</td>\n",
              "      <td>17200.00</td>\n",
              "      <td>8649.00</td>\n",
              "      <td>518320.00</td>\n",
              "      <td>56800.00</td>\n",
              "      <td>1780.00</td>\n",
              "    </tr>\n",
              "  </tbody>\n",
              "</table>\n",
              "</div>"
            ],
            "text/plain": [
              "       ozone   dpg·doy  humidity·vis  temp_SQ  vh·humidity   vis·doy  wind·doy\n",
              "count  35.00     35.00         35.00    35.00        35.00     35.00     35.00\n",
              "mean    9.97    690.94       6812.29  3709.89    317625.14  26119.71    801.80\n",
              "std     6.87   8043.63       4655.78  1804.41    129959.69  18898.24    592.33\n",
              "min     3.00 -17316.00       1320.00   961.00    107350.00    520.00      0.00\n",
              "25%     5.00  -3069.00       2655.00  2352.50    212220.00   9795.00    334.00\n",
              "50%     9.00   1008.00       6500.00  3481.00    371150.00  20100.00    706.00\n",
              "75%    12.50   5720.50       9575.00  4422.50    416390.00  43725.00   1339.50\n",
              "max    30.00  12931.00      17200.00  8649.00    518320.00  56800.00   1780.00"
            ]
          },
          "execution_count": 46,
          "metadata": {},
          "output_type": "execute_result"
        }
      ],
      "source": [
        "boot_sample1.describe()"
      ]
    },
    {
      "cell_type": "code",
      "execution_count": 47,
      "metadata": {
        "colab": {
          "base_uri": "https://localhost:8080/",
          "height": 297
        },
        "id": "zc6bVmQhwiPD",
        "outputId": "e51d9169-779d-44a3-9fb2-e1bec1db93f9"
      },
      "outputs": [
        {
          "data": {
            "text/html": [
              "<div>\n",
              "<style scoped>\n",
              "    .dataframe tbody tr th:only-of-type {\n",
              "        vertical-align: middle;\n",
              "    }\n",
              "\n",
              "    .dataframe tbody tr th {\n",
              "        vertical-align: top;\n",
              "    }\n",
              "\n",
              "    .dataframe thead th {\n",
              "        text-align: right;\n",
              "    }\n",
              "</style>\n",
              "<table border=\"1\" class=\"dataframe\">\n",
              "  <thead>\n",
              "    <tr style=\"text-align: right;\">\n",
              "      <th></th>\n",
              "      <th>ozone</th>\n",
              "      <th>dpg·doy</th>\n",
              "      <th>humidity·vis</th>\n",
              "      <th>temp_SQ</th>\n",
              "      <th>vh·humidity</th>\n",
              "      <th>vis·doy</th>\n",
              "      <th>wind·doy</th>\n",
              "    </tr>\n",
              "  </thead>\n",
              "  <tbody>\n",
              "    <tr>\n",
              "      <th>count</th>\n",
              "      <td>15.00</td>\n",
              "      <td>15.00</td>\n",
              "      <td>15.00</td>\n",
              "      <td>15.00</td>\n",
              "      <td>15.00</td>\n",
              "      <td>15.00</td>\n",
              "      <td>15.00</td>\n",
              "    </tr>\n",
              "    <tr>\n",
              "      <th>mean</th>\n",
              "      <td>9.67</td>\n",
              "      <td>2984.40</td>\n",
              "      <td>6530.00</td>\n",
              "      <td>3615.07</td>\n",
              "      <td>309848.67</td>\n",
              "      <td>25887.33</td>\n",
              "      <td>1044.00</td>\n",
              "    </tr>\n",
              "    <tr>\n",
              "      <th>std</th>\n",
              "      <td>5.89</td>\n",
              "      <td>9032.48</td>\n",
              "      <td>3771.75</td>\n",
              "      <td>1530.83</td>\n",
              "      <td>122789.60</td>\n",
              "      <td>16862.63</td>\n",
              "      <td>550.65</td>\n",
              "    </tr>\n",
              "    <tr>\n",
              "      <th>min</th>\n",
              "      <td>3.00</td>\n",
              "      <td>-16608.00</td>\n",
              "      <td>1330.00</td>\n",
              "      <td>961.00</td>\n",
              "      <td>107350.00</td>\n",
              "      <td>6800.00</td>\n",
              "      <td>216.00</td>\n",
              "    </tr>\n",
              "    <tr>\n",
              "      <th>25%</th>\n",
              "      <td>6.00</td>\n",
              "      <td>-800.00</td>\n",
              "      <td>3025.00</td>\n",
              "      <td>2658.50</td>\n",
              "      <td>247130.00</td>\n",
              "      <td>13815.00</td>\n",
              "      <td>678.50</td>\n",
              "    </tr>\n",
              "    <tr>\n",
              "      <th>50%</th>\n",
              "      <td>9.00</td>\n",
              "      <td>3848.00</td>\n",
              "      <td>6900.00</td>\n",
              "      <td>3136.00</td>\n",
              "      <td>375040.00</td>\n",
              "      <td>20100.00</td>\n",
              "      <td>714.00</td>\n",
              "    </tr>\n",
              "    <tr>\n",
              "      <th>75%</th>\n",
              "      <td>11.50</td>\n",
              "      <td>10581.00</td>\n",
              "      <td>9045.00</td>\n",
              "      <td>4498.00</td>\n",
              "      <td>385250.00</td>\n",
              "      <td>35250.00</td>\n",
              "      <td>1535.00</td>\n",
              "    </tr>\n",
              "    <tr>\n",
              "      <th>max</th>\n",
              "      <td>25.00</td>\n",
              "      <td>12931.00</td>\n",
              "      <td>13200.00</td>\n",
              "      <td>6724.00</td>\n",
              "      <td>473960.00</td>\n",
              "      <td>55400.00</td>\n",
              "      <td>1780.00</td>\n",
              "    </tr>\n",
              "  </tbody>\n",
              "</table>\n",
              "</div>"
            ],
            "text/plain": [
              "       ozone   dpg·doy  humidity·vis  temp_SQ  vh·humidity   vis·doy  wind·doy\n",
              "count  15.00     15.00         15.00    15.00        15.00     15.00     15.00\n",
              "mean    9.67   2984.40       6530.00  3615.07    309848.67  25887.33   1044.00\n",
              "std     5.89   9032.48       3771.75  1530.83    122789.60  16862.63    550.65\n",
              "min     3.00 -16608.00       1330.00   961.00    107350.00   6800.00    216.00\n",
              "25%     6.00   -800.00       3025.00  2658.50    247130.00  13815.00    678.50\n",
              "50%     9.00   3848.00       6900.00  3136.00    375040.00  20100.00    714.00\n",
              "75%    11.50  10581.00       9045.00  4498.00    385250.00  35250.00   1535.00\n",
              "max    25.00  12931.00      13200.00  6724.00    473960.00  55400.00   1780.00"
            ]
          },
          "execution_count": 47,
          "metadata": {},
          "output_type": "execute_result"
        }
      ],
      "source": [
        "boot_sample2.describe()"
      ]
    },
    {
      "cell_type": "code",
      "execution_count": 48,
      "metadata": {
        "colab": {
          "base_uri": "https://localhost:8080/",
          "height": 297
        },
        "id": "eWrS3dtJs5jz",
        "outputId": "899662cc-4869-4705-f6e9-a2ebc7bf13ec"
      },
      "outputs": [
        {
          "data": {
            "text/html": [
              "<div>\n",
              "<style scoped>\n",
              "    .dataframe tbody tr th:only-of-type {\n",
              "        vertical-align: middle;\n",
              "    }\n",
              "\n",
              "    .dataframe tbody tr th {\n",
              "        vertical-align: top;\n",
              "    }\n",
              "\n",
              "    .dataframe thead th {\n",
              "        text-align: right;\n",
              "    }\n",
              "</style>\n",
              "<table border=\"1\" class=\"dataframe\">\n",
              "  <thead>\n",
              "    <tr style=\"text-align: right;\">\n",
              "      <th></th>\n",
              "      <th>ozone</th>\n",
              "      <th>dpg·doy</th>\n",
              "      <th>humidity·vis</th>\n",
              "      <th>temp_SQ</th>\n",
              "      <th>vh·humidity</th>\n",
              "      <th>vis·doy</th>\n",
              "      <th>wind·doy</th>\n",
              "    </tr>\n",
              "  </thead>\n",
              "  <tbody>\n",
              "    <tr>\n",
              "      <th>count</th>\n",
              "      <td>61.00</td>\n",
              "      <td>61.00</td>\n",
              "      <td>61.00</td>\n",
              "      <td>61.00</td>\n",
              "      <td>61.00</td>\n",
              "      <td>61.00</td>\n",
              "      <td>61.00</td>\n",
              "    </tr>\n",
              "    <tr>\n",
              "      <th>mean</th>\n",
              "      <td>12.00</td>\n",
              "      <td>2164.49</td>\n",
              "      <td>6575.07</td>\n",
              "      <td>4165.89</td>\n",
              "      <td>327662.30</td>\n",
              "      <td>21267.33</td>\n",
              "      <td>800.92</td>\n",
              "    </tr>\n",
              "    <tr>\n",
              "      <th>std</th>\n",
              "      <td>7.48</td>\n",
              "      <td>6862.80</td>\n",
              "      <td>4142.76</td>\n",
              "      <td>1874.05</td>\n",
              "      <td>122158.11</td>\n",
              "      <td>16484.06</td>\n",
              "      <td>565.55</td>\n",
              "    </tr>\n",
              "    <tr>\n",
              "      <th>min</th>\n",
              "      <td>3.00</td>\n",
              "      <td>-17316.00</td>\n",
              "      <td>152.00</td>\n",
              "      <td>961.00</td>\n",
              "      <td>107350.00</td>\n",
              "      <td>520.00</td>\n",
              "      <td>0.00</td>\n",
              "    </tr>\n",
              "    <tr>\n",
              "      <th>25%</th>\n",
              "      <td>6.00</td>\n",
              "      <td>-738.00</td>\n",
              "      <td>2850.00</td>\n",
              "      <td>2809.00</td>\n",
              "      <td>234360.00</td>\n",
              "      <td>9780.00</td>\n",
              "      <td>340.00</td>\n",
              "    </tr>\n",
              "    <tr>\n",
              "      <th>50%</th>\n",
              "      <td>10.00</td>\n",
              "      <td>3601.00</td>\n",
              "      <td>6400.00</td>\n",
              "      <td>4096.00</td>\n",
              "      <td>366660.00</td>\n",
              "      <td>17100.00</td>\n",
              "      <td>706.00</td>\n",
              "    </tr>\n",
              "    <tr>\n",
              "      <th>75%</th>\n",
              "      <td>16.00</td>\n",
              "      <td>6588.00</td>\n",
              "      <td>8850.00</td>\n",
              "      <td>5329.00</td>\n",
              "      <td>424020.00</td>\n",
              "      <td>25560.00</td>\n",
              "      <td>1272.00</td>\n",
              "    </tr>\n",
              "    <tr>\n",
              "      <th>max</th>\n",
              "      <td>30.00</td>\n",
              "      <td>12931.00</td>\n",
              "      <td>17200.00</td>\n",
              "      <td>8649.00</td>\n",
              "      <td>518320.00</td>\n",
              "      <td>56800.00</td>\n",
              "      <td>1952.00</td>\n",
              "    </tr>\n",
              "  </tbody>\n",
              "</table>\n",
              "</div>"
            ],
            "text/plain": [
              "       ozone   dpg·doy  humidity·vis  temp_SQ  vh·humidity   vis·doy  wind·doy\n",
              "count  61.00     61.00         61.00    61.00        61.00     61.00     61.00\n",
              "mean   12.00   2164.49       6575.07  4165.89    327662.30  21267.33    800.92\n",
              "std     7.48   6862.80       4142.76  1874.05    122158.11  16484.06    565.55\n",
              "min     3.00 -17316.00        152.00   961.00    107350.00    520.00      0.00\n",
              "25%     6.00   -738.00       2850.00  2809.00    234360.00   9780.00    340.00\n",
              "50%    10.00   3601.00       6400.00  4096.00    366660.00  17100.00    706.00\n",
              "75%    16.00   6588.00       8850.00  5329.00    424020.00  25560.00   1272.00\n",
              "max    30.00  12931.00      17200.00  8649.00    518320.00  56800.00   1952.00"
            ]
          },
          "execution_count": 48,
          "metadata": {},
          "output_type": "execute_result"
        }
      ],
      "source": [
        "boot_sample3.describe()"
      ]
    },
    {
      "cell_type": "code",
      "execution_count": 49,
      "metadata": {
        "colab": {
          "base_uri": "https://localhost:8080/",
          "height": 297
        },
        "id": "Tm6HXIZis5vy",
        "outputId": "5d8bd120-a786-4b70-a3d8-357bdd4d38c9"
      },
      "outputs": [
        {
          "data": {
            "text/html": [
              "<div>\n",
              "<style scoped>\n",
              "    .dataframe tbody tr th:only-of-type {\n",
              "        vertical-align: middle;\n",
              "    }\n",
              "\n",
              "    .dataframe tbody tr th {\n",
              "        vertical-align: top;\n",
              "    }\n",
              "\n",
              "    .dataframe thead th {\n",
              "        text-align: right;\n",
              "    }\n",
              "</style>\n",
              "<table border=\"1\" class=\"dataframe\">\n",
              "  <thead>\n",
              "    <tr style=\"text-align: right;\">\n",
              "      <th></th>\n",
              "      <th>ozone</th>\n",
              "      <th>dpg·doy</th>\n",
              "      <th>humidity·vis</th>\n",
              "      <th>temp_SQ</th>\n",
              "      <th>vh·humidity</th>\n",
              "      <th>vis·doy</th>\n",
              "      <th>wind·doy</th>\n",
              "    </tr>\n",
              "  </thead>\n",
              "  <tbody>\n",
              "    <tr>\n",
              "      <th>count</th>\n",
              "      <td>61.00</td>\n",
              "      <td>61.00</td>\n",
              "      <td>61.00</td>\n",
              "      <td>61.00</td>\n",
              "      <td>61.00</td>\n",
              "      <td>61.00</td>\n",
              "      <td>61.00</td>\n",
              "    </tr>\n",
              "    <tr>\n",
              "      <th>mean</th>\n",
              "      <td>12.00</td>\n",
              "      <td>2164.49</td>\n",
              "      <td>6575.07</td>\n",
              "      <td>4165.89</td>\n",
              "      <td>327662.30</td>\n",
              "      <td>21267.33</td>\n",
              "      <td>800.92</td>\n",
              "    </tr>\n",
              "    <tr>\n",
              "      <th>std</th>\n",
              "      <td>7.48</td>\n",
              "      <td>6862.80</td>\n",
              "      <td>4142.76</td>\n",
              "      <td>1874.05</td>\n",
              "      <td>122158.11</td>\n",
              "      <td>16484.06</td>\n",
              "      <td>565.55</td>\n",
              "    </tr>\n",
              "    <tr>\n",
              "      <th>min</th>\n",
              "      <td>3.00</td>\n",
              "      <td>-17316.00</td>\n",
              "      <td>152.00</td>\n",
              "      <td>961.00</td>\n",
              "      <td>107350.00</td>\n",
              "      <td>520.00</td>\n",
              "      <td>0.00</td>\n",
              "    </tr>\n",
              "    <tr>\n",
              "      <th>25%</th>\n",
              "      <td>6.00</td>\n",
              "      <td>-738.00</td>\n",
              "      <td>2850.00</td>\n",
              "      <td>2809.00</td>\n",
              "      <td>234360.00</td>\n",
              "      <td>9780.00</td>\n",
              "      <td>340.00</td>\n",
              "    </tr>\n",
              "    <tr>\n",
              "      <th>50%</th>\n",
              "      <td>10.00</td>\n",
              "      <td>3601.00</td>\n",
              "      <td>6400.00</td>\n",
              "      <td>4096.00</td>\n",
              "      <td>366660.00</td>\n",
              "      <td>17100.00</td>\n",
              "      <td>706.00</td>\n",
              "    </tr>\n",
              "    <tr>\n",
              "      <th>75%</th>\n",
              "      <td>16.00</td>\n",
              "      <td>6588.00</td>\n",
              "      <td>8850.00</td>\n",
              "      <td>5329.00</td>\n",
              "      <td>424020.00</td>\n",
              "      <td>25560.00</td>\n",
              "      <td>1272.00</td>\n",
              "    </tr>\n",
              "    <tr>\n",
              "      <th>max</th>\n",
              "      <td>30.00</td>\n",
              "      <td>12931.00</td>\n",
              "      <td>17200.00</td>\n",
              "      <td>8649.00</td>\n",
              "      <td>518320.00</td>\n",
              "      <td>56800.00</td>\n",
              "      <td>1952.00</td>\n",
              "    </tr>\n",
              "  </tbody>\n",
              "</table>\n",
              "</div>"
            ],
            "text/plain": [
              "       ozone   dpg·doy  humidity·vis  temp_SQ  vh·humidity   vis·doy  wind·doy\n",
              "count  61.00     61.00         61.00    61.00        61.00     61.00     61.00\n",
              "mean   12.00   2164.49       6575.07  4165.89    327662.30  21267.33    800.92\n",
              "std     7.48   6862.80       4142.76  1874.05    122158.11  16484.06    565.55\n",
              "min     3.00 -17316.00        152.00   961.00    107350.00    520.00      0.00\n",
              "25%     6.00   -738.00       2850.00  2809.00    234360.00   9780.00    340.00\n",
              "50%    10.00   3601.00       6400.00  4096.00    366660.00  17100.00    706.00\n",
              "75%    16.00   6588.00       8850.00  5329.00    424020.00  25560.00   1272.00\n",
              "max    30.00  12931.00      17200.00  8649.00    518320.00  56800.00   1952.00"
            ]
          },
          "execution_count": 49,
          "metadata": {},
          "output_type": "execute_result"
        }
      ],
      "source": [
        "boot_sample4.describe()"
      ]
    },
    {
      "cell_type": "markdown",
      "metadata": {
        "id": "yvvSaryT2bFo"
      },
      "source": [
        "<hr color='red'/>\n",
        "\n",
        "## **Task 2.4: Ideas from relations**\n",
        "\n",
        "1. 👉Create heatmaps for each bootstrap samples\n",
        "1. 👉Describe **3 takeaway** about correlation\n",
        "  * 📄 Always focus on the relation between inputs and $Y$. Always start with correlation (linear relation) because it is measurable.\n",
        "1. Is there any features that have bigger/smaller coefficients in one sample but do not have in another?"
      ]
    },
    {
      "cell_type": "markdown",
      "metadata": {
        "id": "2Zglydd49gOG"
      },
      "source": [
        "<h3><font color='red'><b>SOLUTION 2.4:</b></font></h3>\n",
        "\n",
        "Your analysis goes here\n",
        "1. The highest correlation in each sample is between temp and ozone and they are strongly correlated as the value is bigger than 0.5.\n",
        "1. In the second sample heat map the correlation between vis·doy and dpg·doy is negative, but the sme correlation is positive in other samples.\n",
        "1. All the heatmaps look similar exept for the heatmap of the second bootstrap sample, which has the least amount of observations in it."
      ]
    },
    {
      "cell_type": "code",
      "execution_count": 50,
      "metadata": {
        "colab": {
          "base_uri": "https://localhost:8080/",
          "height": 338
        },
        "id": "QaN4BaXgbwhb",
        "outputId": "2248394b-6f9c-43a0-c675-1dc882ba5ed2"
      },
      "outputs": [
        {
          "data": {
            "text/plain": [
              "<matplotlib.axes._subplots.AxesSubplot at 0x7fbf2e623510>"
            ]
          },
          "execution_count": 50,
          "metadata": {},
          "output_type": "execute_result"
        },
        {
          "data": {
            "image/png": "[encoded data removed]",
            "text/plain": [
              "<Figure size 432x288 with 2 Axes>"
            ]
          },
          "metadata": {
            "needs_background": "light"
          },
          "output_type": "display_data"
        }
      ],
      "source": [
        "sns.heatmap(df.corr(), annot = True, fmt='.2g')"
      ]
    },
    {
      "cell_type": "code",
      "execution_count": 51,
      "metadata": {
        "colab": {
          "base_uri": "https://localhost:8080/",
          "height": 338
        },
        "id": "Aui55Bw1uupK",
        "outputId": "81dc5560-aa44-414b-8fc7-be837fb04c50"
      },
      "outputs": [
        {
          "data": {
            "text/plain": [
              "<matplotlib.axes._subplots.AxesSubplot at 0x7fbf379065d0>"
            ]
          },
          "execution_count": 51,
          "metadata": {},
          "output_type": "execute_result"
        },
        {
          "data": {
            "image/png": "[encoded data removed]",
            "text/plain": [
              "<Figure size 432x288 with 2 Axes>"
            ]
          },
          "metadata": {
            "needs_background": "light"
          },
          "output_type": "display_data"
        }
      ],
      "source": [
        "sns.heatmap(boot_sample0.corr(), annot = True, fmt='.2g')\n"
      ]
    },
    {
      "cell_type": "code",
      "execution_count": 52,
      "metadata": {
        "colab": {
          "base_uri": "https://localhost:8080/",
          "height": 338
        },
        "id": "qLJ0rHbqxFCn",
        "outputId": "b47ca1d7-f24c-45c5-ebdb-a027954138a3"
      },
      "outputs": [
        {
          "data": {
            "text/plain": [
              "<matplotlib.axes._subplots.AxesSubplot at 0x7fbf38448fd0>"
            ]
          },
          "execution_count": 52,
          "metadata": {},
          "output_type": "execute_result"
        },
        {
          "data": {
            "image/png": "[encoded data removed]",
            "text/plain": [
              "<Figure size 432x288 with 2 Axes>"
            ]
          },
          "metadata": {
            "needs_background": "light"
          },
          "output_type": "display_data"
        }
      ],
      "source": [
        "sns.heatmap(boot_sample1.corr(), annot = True, fmt='.2g')"
      ]
    },
    {
      "cell_type": "code",
      "execution_count": 53,
      "metadata": {
        "colab": {
          "base_uri": "https://localhost:8080/",
          "height": 338
        },
        "id": "blgipz2kxGsr",
        "outputId": "dbc40945-770c-4776-db0b-b081edfa7978"
      },
      "outputs": [
        {
          "data": {
            "text/plain": [
              "<matplotlib.axes._subplots.AxesSubplot at 0x7fbf2e88d450>"
            ]
          },
          "execution_count": 53,
          "metadata": {},
          "output_type": "execute_result"
        },
        {
          "data": {
            "image/png": "[encoded data removed]",
            "text/plain": [
              "<Figure size 432x288 with 2 Axes>"
            ]
          },
          "metadata": {
            "needs_background": "light"
          },
          "output_type": "display_data"
        }
      ],
      "source": [
        "sns.heatmap(boot_sample2.corr(), annot = True, fmt='.2g')"
      ]
    },
    {
      "cell_type": "code",
      "execution_count": 54,
      "metadata": {
        "colab": {
          "base_uri": "https://localhost:8080/",
          "height": 338
        },
        "id": "evGBr8rBxH3X",
        "outputId": "e0adcba6-ded4-4445-a8a8-3f4ac770945e"
      },
      "outputs": [
        {
          "data": {
            "text/plain": [
              "<matplotlib.axes._subplots.AxesSubplot at 0x7fbf2e8f44d0>"
            ]
          },
          "execution_count": 54,
          "metadata": {},
          "output_type": "execute_result"
        },
        {
          "data": {
            "image/png": "[encoded data removed]",
            "text/plain": [
              "<Figure size 432x288 with 2 Axes>"
            ]
          },
          "metadata": {
            "needs_background": "light"
          },
          "output_type": "display_data"
        }
      ],
      "source": [
        "sns.heatmap(boot_sample3.corr(), annot = True, fmt='.2g')"
      ]
    },
    {
      "cell_type": "code",
      "execution_count": 55,
      "metadata": {
        "colab": {
          "base_uri": "https://localhost:8080/",
          "height": 338
        },
        "id": "jkB9ybqQxIB-",
        "outputId": "fcfb2b7e-d4c0-4a1e-e192-1b1e5cdbdcaf"
      },
      "outputs": [
        {
          "data": {
            "text/plain": [
              "<matplotlib.axes._subplots.AxesSubplot at 0x7fbf2eaf6350>"
            ]
          },
          "execution_count": 55,
          "metadata": {},
          "output_type": "execute_result"
        },
        {
          "data": {
            "image/png": "[encoded data removed]",
            "text/plain": [
              "<Figure size 432x288 with 2 Axes>"
            ]
          },
          "metadata": {
            "needs_background": "light"
          },
          "output_type": "display_data"
        }
      ],
      "source": [
        "sns.heatmap(boot_sample4.corr(), annot = True, fmt='.2g')"
      ]
    },
    {
      "cell_type": "markdown",
      "metadata": {
        "id": "_wSwVDYd9kPL"
      },
      "source": [
        "<hr color='red'/>\n",
        "\n",
        "## **Task 2.5: CV**\n",
        "\n",
        "1. 👉Split data based on [TimeSeriesSplit](https://scikit-learn.org/stable/modules/generated/sklearn.model_selection.TimeSeriesSplit.html#sklearn.model_selection.TimeSeriesSplit) (the training sets are always in the past and the validation sets are always in the future, so that you are never training on the future to predict the past) into 5 splits.\n",
        "\n",
        "1. 👉Explain why you don't need to specify random_state here.\n",
        "\n",
        "1. 👉Explain why it is better to use TimeSeriesSplit with this data"
      ]
    },
    {
      "cell_type": "markdown",
      "metadata": {
        "id": "nKrVW-30ABaQ"
      },
      "source": [
        "<h3><font color='red'><b>SOLUTION 2.5:</b></font></h3>\n",
        "\n",
        "Your analysis goes here\n",
        "1. Implented in code below\n",
        "1. TimeSeriesSplit splits arrays into random train and test subsets. In other CV methods when we run them without specifying random_state we get a different result, but in TimeSeriesSplit successive training sets are supersets of those that come before them so we don't need to specify random_state here.\n",
        "1. In our data we don't have the date parameter we can't sort it by date so by using TimeSeriesSplit we can obtain the same results every time on this data set.\n"
      ]
    },
    {
      "cell_type": "code",
      "execution_count": 56,
      "metadata": {
        "colab": {
          "base_uri": "https://localhost:8080/",
          "height": 419
        },
        "id": "w7ZFPNj4D3e_",
        "outputId": "f70d9fb5-c22a-4a9e-a8e2-8f8bdd9145ac"
      },
      "outputs": [
        {
          "data": {
            "text/html": [
              "<div>\n",
              "<style scoped>\n",
              "    .dataframe tbody tr th:only-of-type {\n",
              "        vertical-align: middle;\n",
              "    }\n",
              "\n",
              "    .dataframe tbody tr th {\n",
              "        vertical-align: top;\n",
              "    }\n",
              "\n",
              "    .dataframe thead th {\n",
              "        text-align: right;\n",
              "    }\n",
              "</style>\n",
              "<table border=\"1\" class=\"dataframe\">\n",
              "  <thead>\n",
              "    <tr style=\"text-align: right;\">\n",
              "      <th></th>\n",
              "      <th>ozone</th>\n",
              "      <th>dpg·doy</th>\n",
              "      <th>humidity·vis</th>\n",
              "      <th>temp_SQ</th>\n",
              "      <th>vis·doy</th>\n",
              "    </tr>\n",
              "  </thead>\n",
              "  <tbody>\n",
              "    <tr>\n",
              "      <th>32</th>\n",
              "      <td>3</td>\n",
              "      <td>666.0</td>\n",
              "      <td>3720.0</td>\n",
              "      <td>900.0</td>\n",
              "      <td>2220.0</td>\n",
              "    </tr>\n",
              "    <tr>\n",
              "      <th>24</th>\n",
              "      <td>6</td>\n",
              "      <td>-435.0</td>\n",
              "      <td>2850.0</td>\n",
              "      <td>4096.0</td>\n",
              "      <td>4350.0</td>\n",
              "    </tr>\n",
              "    <tr>\n",
              "      <th>182</th>\n",
              "      <td>17</td>\n",
              "      <td>11368.0</td>\n",
              "      <td>6560.0</td>\n",
              "      <td>6561.0</td>\n",
              "      <td>15680.0</td>\n",
              "    </tr>\n",
              "    <tr>\n",
              "      <th>168</th>\n",
              "      <td>26</td>\n",
              "      <td>7421.0</td>\n",
              "      <td>10780.0</td>\n",
              "      <td>7744.0</td>\n",
              "      <td>25340.0</td>\n",
              "    </tr>\n",
              "    <tr>\n",
              "      <th>112</th>\n",
              "      <td>19</td>\n",
              "      <td>3720.0</td>\n",
              "      <td>6100.0</td>\n",
              "      <td>4356.0</td>\n",
              "      <td>12000.0</td>\n",
              "    </tr>\n",
              "    <tr>\n",
              "      <th>...</th>\n",
              "      <td>...</td>\n",
              "      <td>...</td>\n",
              "      <td>...</td>\n",
              "      <td>...</td>\n",
              "      <td>...</td>\n",
              "    </tr>\n",
              "    <tr>\n",
              "      <th>171</th>\n",
              "      <td>16</td>\n",
              "      <td>9568.0</td>\n",
              "      <td>7680.0</td>\n",
              "      <td>4900.0</td>\n",
              "      <td>22080.0</td>\n",
              "    </tr>\n",
              "    <tr>\n",
              "      <th>221</th>\n",
              "      <td>19</td>\n",
              "      <td>8085.0</td>\n",
              "      <td>4970.0</td>\n",
              "      <td>8649.0</td>\n",
              "      <td>17150.0</td>\n",
              "    </tr>\n",
              "    <tr>\n",
              "      <th>155</th>\n",
              "      <td>14</td>\n",
              "      <td>12600.0</td>\n",
              "      <td>1088.0</td>\n",
              "      <td>6084.0</td>\n",
              "      <td>2856.0</td>\n",
              "    </tr>\n",
              "    <tr>\n",
              "      <th>262</th>\n",
              "      <td>24</td>\n",
              "      <td>6111.0</td>\n",
              "      <td>1207.0</td>\n",
              "      <td>4761.0</td>\n",
              "      <td>4947.0</td>\n",
              "    </tr>\n",
              "    <tr>\n",
              "      <th>162</th>\n",
              "      <td>15</td>\n",
              "      <td>-1925.0</td>\n",
              "      <td>4620.0</td>\n",
              "      <td>6561.0</td>\n",
              "      <td>24500.0</td>\n",
              "    </tr>\n",
              "  </tbody>\n",
              "</table>\n",
              "<p>165 rows × 5 columns</p>\n",
              "</div>"
            ],
            "text/plain": [
              "     ozone  dpg·doy  humidity·vis  temp_SQ  vis·doy\n",
              "32       3    666.0        3720.0    900.0   2220.0\n",
              "24       6   -435.0        2850.0   4096.0   4350.0\n",
              "182     17  11368.0        6560.0   6561.0  15680.0\n",
              "168     26   7421.0       10780.0   7744.0  25340.0\n",
              "112     19   3720.0        6100.0   4356.0  12000.0\n",
              "..     ...      ...           ...      ...      ...\n",
              "171     16   9568.0        7680.0   4900.0  22080.0\n",
              "221     19   8085.0        4970.0   8649.0  17150.0\n",
              "155     14  12600.0        1088.0   6084.0   2856.0\n",
              "262     24   6111.0        1207.0   4761.0   4947.0\n",
              "162     15  -1925.0        4620.0   6561.0  24500.0\n",
              "\n",
              "[165 rows x 5 columns]"
            ]
          },
          "execution_count": 56,
          "metadata": {},
          "output_type": "execute_result"
        }
      ],
      "source": [
        "df = df.drop(\"wind·doy\", axis=1)\n",
        "df = df.drop(\"vh·humidity\", axis=1)\n",
        "df"
      ]
    },
    {
      "cell_type": "code",
      "execution_count": 57,
      "metadata": {
        "id": "galvUm3t1YBz"
      },
      "outputs": [],
      "source": [
        "cv_splits_train = []\n",
        "cv_splits_test = []"
      ]
    },
    {
      "cell_type": "code",
      "execution_count": 58,
      "metadata": {
        "id": "aCa-rhRy0La3"
      },
      "outputs": [],
      "source": [
        "from sklearn.model_selection import TimeSeriesSplit\n",
        "X = np.array(df[['dpg·doy', 'humidity·vis', 'temp_SQ', 'vis·doy']])\n",
        "Y = np.array(df['ozone'])\n",
        "tscv = TimeSeriesSplit(n_splits=5)\n",
        "for train_index, test_index in tscv.split(X):\n",
        "  X_train, X_test = X[train_index], X[test_index]\n",
        "  y_train, y_test = Y[train_index], Y[test_index]\n",
        "  cv_splits_train.append([X_train, y_train])\n",
        "  cv_splits_test.append([X_test, y_test])"
      ]
    },
    {
      "cell_type": "markdown",
      "metadata": {
        "id": "DzADfZg3ANGA"
      },
      "source": [
        "<hr color='red'/>\n",
        "\n",
        "## **Task 2.6: Baseline Model**"
      ]
    },
    {
      "cell_type": "markdown",
      "metadata": {
        "id": "p3bzo6CEAQI1"
      },
      "source": [
        "Let's build the baseline model, version 0\n",
        "1. 👉Use `train_test_split` to (seed and) split your sample into 80% training set. \n",
        "1. 👉Use `sklearn` linear regression to build a simple model\n",
        "1. 👉Use `root_mean_squared_error` to establish the quality of your model. Analyse the results.\n",
        "1. 👉Explain why it's not a good idea to use basic `train_test_split`"
      ]
    },
    {
      "cell_type": "markdown",
      "metadata": {
        "id": "JDRIxvf2BxFs"
      },
      "source": [
        "<h3><font color='red'><b>SOLUTION 2.6:</b></font></h3>\n",
        "\n",
        "Your analysis goes here\n",
        "1.train_test_split splits the data randomly the data is not seeded. On each splitting we will get a different set of data, so the prdiction will change every time.\n"
      ]
    },
    {
      "cell_type": "code",
      "execution_count": 59,
      "metadata": {
        "colab": {
          "base_uri": "https://localhost:8080/"
        },
        "id": "prYwS9-bfIPH",
        "outputId": "13131806-c12c-4d64-df7e-e01930882fcc"
      },
      "outputs": [
        {
          "data": {
            "text/plain": [
              "LinearRegression(copy_X=True, fit_intercept=True, n_jobs=None, normalize=False)"
            ]
          },
          "execution_count": 59,
          "metadata": {},
          "output_type": "execute_result"
        }
      ],
      "source": [
        "from sklearn.model_selection import train_test_split\n",
        "from sklearn.linear_model import LinearRegression\n",
        "X_train, X_test, y_train, y_test = train_test_split(X, Y, test_size=0.2, random_state=0)\n",
        "regressor = LinearRegression()\n",
        "regressor.fit(X_train, y_train)"
      ]
    },
    {
      "cell_type": "code",
      "execution_count": 60,
      "metadata": {
        "colab": {
          "base_uri": "https://localhost:8080/"
        },
        "id": "QgT9kESygygP",
        "outputId": "cd30f6a3-f085-4669-dec5-142b75e98191"
      },
      "outputs": [
        {
          "name": "stdout",
          "output_type": "stream",
          "text": [
            "-2.116091140356067\n"
          ]
        }
      ],
      "source": [
        "print(regressor.intercept_)"
      ]
    },
    {
      "cell_type": "code",
      "execution_count": 61,
      "metadata": {
        "colab": {
          "base_uri": "https://localhost:8080/"
        },
        "id": "oLLCMBWegyo5",
        "outputId": "5bb09b2a-586c-4680-df73-abf58a2e2b45"
      },
      "outputs": [
        {
          "name": "stdout",
          "output_type": "stream",
          "text": [
            "[-0.      0.0001  0.0034 -0.0001]\n"
          ]
        }
      ],
      "source": [
        "print(regressor.coef_)"
      ]
    },
    {
      "cell_type": "code",
      "execution_count": 62,
      "metadata": {
        "id": "_5bOeLfvhRl0"
      },
      "outputs": [],
      "source": [
        "pred = regressor.predict(X_test)"
      ]
    },
    {
      "cell_type": "code",
      "execution_count": 63,
      "metadata": {
        "colab": {
          "base_uri": "https://localhost:8080/",
          "height": 419
        },
        "id": "BkJgHnzMjHGZ",
        "outputId": "0bef06e6-1a90-40b3-c54e-f4b85c01a18f"
      },
      "outputs": [
        {
          "data": {
            "text/html": [
              "<div>\n",
              "<style scoped>\n",
              "    .dataframe tbody tr th:only-of-type {\n",
              "        vertical-align: middle;\n",
              "    }\n",
              "\n",
              "    .dataframe tbody tr th {\n",
              "        vertical-align: top;\n",
              "    }\n",
              "\n",
              "    .dataframe thead th {\n",
              "        text-align: right;\n",
              "    }\n",
              "</style>\n",
              "<table border=\"1\" class=\"dataframe\">\n",
              "  <thead>\n",
              "    <tr style=\"text-align: right;\">\n",
              "      <th></th>\n",
              "      <th>Actual</th>\n",
              "      <th>Predicted</th>\n",
              "    </tr>\n",
              "  </thead>\n",
              "  <tbody>\n",
              "    <tr>\n",
              "      <th>0</th>\n",
              "      <td>6</td>\n",
              "      <td>8.30</td>\n",
              "    </tr>\n",
              "    <tr>\n",
              "      <th>1</th>\n",
              "      <td>3</td>\n",
              "      <td>6.38</td>\n",
              "    </tr>\n",
              "    <tr>\n",
              "      <th>2</th>\n",
              "      <td>3</td>\n",
              "      <td>2.98</td>\n",
              "    </tr>\n",
              "    <tr>\n",
              "      <th>3</th>\n",
              "      <td>12</td>\n",
              "      <td>11.04</td>\n",
              "    </tr>\n",
              "    <tr>\n",
              "      <th>4</th>\n",
              "      <td>8</td>\n",
              "      <td>12.47</td>\n",
              "    </tr>\n",
              "    <tr>\n",
              "      <th>...</th>\n",
              "      <td>...</td>\n",
              "      <td>...</td>\n",
              "    </tr>\n",
              "    <tr>\n",
              "      <th>28</th>\n",
              "      <td>5</td>\n",
              "      <td>5.69</td>\n",
              "    </tr>\n",
              "    <tr>\n",
              "      <th>29</th>\n",
              "      <td>18</td>\n",
              "      <td>12.05</td>\n",
              "    </tr>\n",
              "    <tr>\n",
              "      <th>30</th>\n",
              "      <td>34</td>\n",
              "      <td>23.32</td>\n",
              "    </tr>\n",
              "    <tr>\n",
              "      <th>31</th>\n",
              "      <td>4</td>\n",
              "      <td>8.05</td>\n",
              "    </tr>\n",
              "    <tr>\n",
              "      <th>32</th>\n",
              "      <td>9</td>\n",
              "      <td>11.65</td>\n",
              "    </tr>\n",
              "  </tbody>\n",
              "</table>\n",
              "<p>33 rows × 2 columns</p>\n",
              "</div>"
            ],
            "text/plain": [
              "    Actual  Predicted\n",
              "0        6       8.30\n",
              "1        3       6.38\n",
              "2        3       2.98\n",
              "3       12      11.04\n",
              "4        8      12.47\n",
              "..     ...        ...\n",
              "28       5       5.69\n",
              "29      18      12.05\n",
              "30      34      23.32\n",
              "31       4       8.05\n",
              "32       9      11.65\n",
              "\n",
              "[33 rows x 2 columns]"
            ]
          },
          "execution_count": 63,
          "metadata": {},
          "output_type": "execute_result"
        }
      ],
      "source": [
        "df = pd.DataFrame({'Actual': y_test, 'Predicted': pred})\n",
        "df"
      ]
    },
    {
      "cell_type": "code",
      "execution_count": 66,
      "metadata": {
        "colab": {
          "base_uri": "https://localhost:8080/"
        },
        "id": "4-ETbICshfx7",
        "outputId": "2df2da8a-dd73-4b00-dce3-a82eed043eb2"
      },
      "outputs": [
        {
          "name": "stdout",
          "output_type": "stream",
          "text": [
            "3.909769195600099\n",
            "5.291623747395691\n"
          ]
        }
      ],
      "source": [
        "from sklearn import metrics\n",
        "from sklearn.metrics import mean_squared_error\n",
        "from sklearn.metrics import mean_absolute_error\n",
        "print(mean_absolute_error(y_test, pred)) #Mean Absolute Error\n",
        "print(mean_squared_error(y_test, pred, squared=False)) #Mean Squared Error"
      ]
    },
    {
      "cell_type": "markdown",
      "metadata": {
        "id": "zUbw9FJECIV8"
      },
      "source": [
        "<hr color='red'/>\n",
        "\n",
        "## **Task 2.7: CV**"
      ]
    },
    {
      "cell_type": "markdown",
      "metadata": {
        "id": "PMEzRPJfCKS3"
      },
      "source": [
        "👉 Score you model on CV-folds you've created earlier. Did the metric change? How? Why? \n",
        "\n",
        "👉 What results are more fair? \n",
        "\n",
        "*Hint: Think about the distribution we are estimating with each cross validation.*"
      ]
    },
    {
      "cell_type": "code",
      "execution_count": 67,
      "metadata": {
        "colab": {
          "base_uri": "https://localhost:8080/"
        },
        "id": "NUQ6UHvxBwtL",
        "outputId": "d3c85db5-10e8-41e2-dfeb-d3993e694b19"
      },
      "outputs": [
        {
          "name": "stdout",
          "output_type": "stream",
          "text": [
            "4.682694741602016\n"
          ]
        }
      ],
      "source": [
        "# SOLUTION\n",
        "metrics = []\n",
        "\n",
        "for i in range(5):\n",
        "  tX = cv_splits_train[i][0]\n",
        "  tY = cv_splits_train[i][1]\n",
        "  vX = cv_splits_test[i][0]\n",
        "  vY = cv_splits_test[i][1]\n",
        "  linreg = LinearRegression().fit(tX, tY)\n",
        "  pred = linreg.predict(vX)\n",
        "  metrics.append(mean_squared_error(vY, pred, squared=False))\n",
        "\n",
        "print(np.mean(metrics))"
      ]
    },
    {
      "cell_type": "markdown",
      "metadata": {
        "id": "vitZUBMAEfO9"
      },
      "source": [
        "<h3><font color='red'><b>SOLUTION 2.7:</b></font></h3>\n",
        "\n",
        "Your analysis goes here\n",
        "1. The metric changed, in our base realisation the MSE was 5.291623747395691 and the score on CV-folds is better 4.682694741602016, the result is better becuse the data is not splitted in 5 parts.\n",
        "1. The results from the first realisation are more fair, we split the data and get the MSE from 5 samples."
      ]
    },
    {
      "cell_type": "markdown",
      "metadata": {},
      "source": []
    }
  ],
  "metadata": {
    "colab": {
      "collapsed_sections": [],
      "name": "Kopia_HW_5_Last_name1_Last_name2.ipynb",
      "provenance": []
    },
    "kernelspec": {
      "display_name": "Python 3",
      "name": "python3"
    },
    "language_info": {
      "name": "python"
    }
  },
  "nbformat": 4,
  "nbformat_minor": 0
}
